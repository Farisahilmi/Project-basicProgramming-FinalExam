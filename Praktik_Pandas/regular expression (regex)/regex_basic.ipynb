{
 "cells": [
  {
   "cell_type": "markdown",
   "id": "4da38e0d",
   "metadata": {},
   "source": [
    "apa itu regex (regular expression)\n",
    "regex adalah cara untuk bilang ke python \n",
    "\"hei, aku cuma mau teks yang bentuknya seperti ini, tolong saringin ya!\""
   ]
  },
  {
   "cell_type": "markdown",
   "id": "6e03978a",
   "metadata": {},
   "source": [
    "untuk cari data waktu seperti:\n",
    "\n",
    "\"08.00\"\n",
    "\n",
    "\"13.45\"\n",
    "\n",
    "Dan abaikan yang salah, seperti:\n",
    "\n",
    "\"8.00\" → jam cuma 1 digit\n",
    "\n",
    "\"08:00\" → pakai titik dua, bukan titik\n",
    "\n",
    "\"08.00 \" → ada spasi"
   ]
  },
  {
   "cell_type": "code",
   "execution_count": null,
   "id": "e53123b8",
   "metadata": {},
   "outputs": [],
   "source": [
    "import pandas as pd\n",
    "\n",
    "df = pd.DataFrame({\n",
    "    \"Mulai\": [\"08.00\", \"8.00\", \"13:00\", \"10.30\", \"08.00 \", \"jam 09.00\"]\n",
    "})\n",
    "\n",
    "df_valid = df[df[\"Mulai\"].str.contains(r'^\\d{2}\\.\\d{2}$', na=False)]\n",
    "\n",
    "print(df_valid)\n"
   ]
  }
 ],
 "metadata": {
  "kernelspec": {
   "display_name": "Python 3",
   "language": "python",
   "name": "python3"
  },
  "language_info": {
   "name": "python",
   "version": "3.13.1"
  }
 },
 "nbformat": 4,
 "nbformat_minor": 5
}
