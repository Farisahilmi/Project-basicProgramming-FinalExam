{
 "cells": [
  {
   "cell_type": "markdown",
   "id": "ce2265f5",
   "metadata": {},
   "source": [
    "level: 2\n",
    "# Noted\n",
    "\n",
    "arti dari axis di pandas:\n",
    "\n",
    "# Axis 0 > arah vertikal > artinya baris(row) > proses per kolom \n",
    "\n",
    "# Axis 1 > arah Horizontal > artinnya baris(column) > proses per baris"
   ]
  },
  {
   "cell_type": "markdown",
   "id": "98ab44bf",
   "metadata": {},
   "source": [
    "level 2:\n",
    "bagian 3\n",
    "\n",
    "handling missing data di pandas"
   ]
  },
  {
   "cell_type": "markdown",
   "id": "4b015ded",
   "metadata": {},
   "source": [
    "1. mendeteksi nilai kosong (missing value)\n",
    "df.isnull()     # cek mana yang null (true/False)\n",
    "df.notnull()    # lawannya, mana yang tidak null"
   ]
  },
  {
   "cell_type": "code",
   "execution_count": null,
   "id": "2ace831f",
   "metadata": {},
   "outputs": [],
   "source": [
    "import pandas as pd\n",
    "\n",
    "data = {\n",
    "    \"nama\": [\"Ari\", \"Budi\", \"Cici\", \"Dina\"],\n",
    "    \"umur\": [25, None, 22, 30],\n",
    "    \"kota\": [\"Jakarta\", \"Bandung\", None, \"Surabaya\"]\n",
    "}\n",
    "\n",
    "df = pd.DataFrame(data)\n",
    "print(df.isnull())\n",
    "\n",
    "# menghitung yang mengandung missing value\n",
    "print(df.isnull().sum())"
   ]
  },
  {
   "cell_type": "code",
   "execution_count": null,
   "id": "0fb0c720",
   "metadata": {},
   "outputs": [],
   "source": [
    "# menghapus nilai kosong .dropna()\n",
    "# tujuan: menghapus barus atau kolom yang mengandung Nan (kosong)\n",
    "\n",
    "import pandas as pd\n",
    "\n",
    "data = {\n",
    "    \"nama\" : [\"ari\", \"budi\", \"cici\", \"dina\"],\n",
    "    \"umur\" : [25, None, 22, 30],\n",
    "    \"kota\" : [\"jakarta\", \"bandung\", None, \"surabaya\"]\n",
    "}\n",
    "\n",
    "df = pd.DataFrame(data)\n",
    "df_baru = df.dropna() # hapus baris yang mengandung NaN\n",
    "\n",
    "df_kolom = df.dropna(axis=1) # hapus kolom yang mengandung NaN\n",
    "print(df_kolom)"
   ]
  },
  {
   "cell_type": "code",
   "execution_count": null,
   "id": "462f84d6",
   "metadata": {},
   "outputs": [],
   "source": [
    "# fungsi .dropna() tidak mengubah DataFrame asli kecuali kamu tambahkan inplace=True\n",
    "\n",
    "df.dropna(inplace=True)  # Hapus langsung di df"
   ]
  },
  {
   "cell_type": "code",
   "execution_count": null,
   "id": "16db4e67",
   "metadata": {},
   "outputs": [],
   "source": [
    "# .fillna() > mengisi data yang hilang (missing values)\n",
    "#mengganti nilai yang hilang (NaN/None) dengan nilai tertentu agar data bisa dianalisis tanpa error\n",
    "\n",
    "import pandas as pd\n",
    "\n",
    "data = {\n",
    "    \"nama\": [\"Ari\", \"Budi\", \"Cici\", \"Dina\"],\n",
    "    \"umur\": [25, None, 22, 30],\n",
    "    \"kota\": [\"Jakarta\", \"Bandung\", None, \"Surabaya\"]\n",
    "}\n",
    "\n",
    "df = pd.DataFrame(data)\n",
    "df = df.fillna(\"tidak diketahui\")\n",
    "print(df)\n"
   ]
  },
  {
   "cell_type": "code",
   "execution_count": null,
   "id": "f516327e",
   "metadata": {},
   "outputs": [],
   "source": [
    "# ganti NaN hanya pada kolom tertentu\n",
    "import pandas as pd\n",
    "\n",
    "data = {\n",
    "    \"nama\": [\"Ari\", \"Budi\", \"Cici\", \"Dina\"],\n",
    "    \"umur\": [25, None, 22, 30],\n",
    "    \"kota\": [\"Jakarta\", \"Bandung\", None, \"Surabaya\"]\n",
    "}\n",
    "\n",
    "df = pd.DataFrame(data)\n",
    "df[\"umur\"] = df[\"umur\"].fillna(df[\"umur\"].mean())   # isi dengan rata-rata umur\n",
    "df[\"kota\"] = df[\"kota\"].fillna(\"tidak diketahui\")   # isi dengan string\n",
    "print(df)"
   ]
  },
  {
   "cell_type": "code",
   "execution_count": null,
   "id": "241b4eab",
   "metadata": {},
   "outputs": [],
   "source": [
    "# mengisi berdasarkan method (ffill / bfill)\n",
    "# ffill : isi dengan nilai sebelumnya (forward fill)\n",
    "# bfill : isi dengan nilai sesudahnya (backward fill)\n",
    "import pandas as pd\n",
    "\n",
    "data = {\n",
    "    \"nama\": [\"Ari\", \"Budi\", \"Cici\", \"Dina\"],\n",
    "    \"umur\": [25, None, 22, 30],\n",
    "    \"kota\": [\"Jakarta\", \"Bandung\", None, \"Surabaya\"]\n",
    "}\n",
    "\n",
    "df = pd.DataFrame(data)\n",
    "df = df.fillna(method=\"ffill\")\n",
    "print(df)\n"
   ]
  }
 ],
 "metadata": {
  "kernelspec": {
   "display_name": "Python 3",
   "language": "python",
   "name": "python3"
  },
  "language_info": {
   "codemirror_mode": {
    "name": "ipython",
    "version": 3
   },
   "file_extension": ".py",
   "mimetype": "text/x-python",
   "name": "python",
   "nbconvert_exporter": "python",
   "pygments_lexer": "ipython3",
   "version": "3.13.1"
  }
 },
 "nbformat": 4,
 "nbformat_minor": 5
}
