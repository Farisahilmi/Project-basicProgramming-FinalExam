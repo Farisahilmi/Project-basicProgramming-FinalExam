{
 "cells": [
  {
   "cell_type": "markdown",
   "id": "b185d40c",
   "metadata": {},
   "source": [
    "syllabus\n",
    "\n",
    "# menambah kolom:\n",
    "    # df[kolom_baru] = [...]\n",
    "# menghapus kolom atau baris\n",
    "    # df.drop(columns=[...])\n",
    "    # df.drop(index=...)\n",
    "# rename kolom atau baris (index)\n",
    "    # df.rename(columns={...})\n",
    "    # df.rename(index= {...})\n",
    "# melihat informasi data\n",
    "df.head() - df.tail() - df.info() - df.describe()"
   ]
  },
  {
   "cell_type": "code",
   "execution_count": null,
   "id": "1eca0b63",
   "metadata": {},
   "outputs": [],
   "source": [
    "# menambah kolom \n",
    "import pandas as pd\n",
    "data = {\n",
    "    \"nama\" : [\"faris\", \"firman\", \"santuy\"],\n",
    "    \"umur\" : [25, 12, 45],\n",
    "}\n",
    "\n",
    "\n",
    "df = pd.DataFrame(data)\n",
    "df[\"kota\"] = [\"jakarta\", \"bandung\", \"bekasi\"]\n",
    "print(df)"
   ]
  },
  {
   "cell_type": "code",
   "execution_count": null,
   "id": "7fc3d291",
   "metadata": {},
   "outputs": [],
   "source": [
    "# menghapus kolom atau baris\n",
    "\n",
    "# hapus kolom (columns=[nama kolom])\n",
    "import pandas as pd\n",
    "data = {\n",
    "    \"nama\" : [\"faris\", \"firman\", \"santuy\"],\n",
    "    \"umur\" : [25, 12, 45],\n",
    "    \"kota\" : [\"jakarta\", \"bandung\", \"bekasi\"]\n",
    "}\n",
    "\n",
    "df = pd.DataFrame(data)\n",
    "df = df.drop(columns=[\"kota\"])\n",
    "print(df)"
   ]
  },
  {
   "cell_type": "code",
   "execution_count": null,
   "id": "9296791f",
   "metadata": {},
   "outputs": [],
   "source": [
    "# hapus baris (index=[index])\n",
    "import pandas as pd\n",
    "data = {\n",
    "    \"nama\" : [\"faris\", \"firman\", \"santuy\"],\n",
    "    \"umur\" : [25, 12, 45],\n",
    "    \"kota\" : [\"jakarta\", \"bandung\", \"bekasi\"]\n",
    "}\n",
    "\n",
    "df = pd.DataFrame(data)\n",
    "df = df.drop(index=1)\n",
    "print(df)"
   ]
  },
  {
   "cell_type": "code",
   "execution_count": null,
   "id": "c49c0d5b",
   "metadata": {},
   "outputs": [],
   "source": [
    "# rename kolom atau baris (index)\n",
    "# rename kolom \n",
    "import pandas as pd\n",
    "data = {\n",
    "    \"nama\" : [\"faris\", \"firman\", \"santuy\"],\n",
    "    \"umur\" : [25, 12, 45],\n",
    "    \"kota\" : [\"jakarta\", \"bandung\", \"bekasi\"]\n",
    "}\n",
    "\n",
    "df = pd.DataFrame(data)\n",
    "df = df.rename(columns={\"nama\": \"nama lengkap\"})\n",
    "print(df)"
   ]
  },
  {
   "cell_type": "code",
   "execution_count": null,
   "id": "f4b85801",
   "metadata": {},
   "outputs": [],
   "source": [
    "# rename index\n",
    "import pandas as pd\n",
    "data = {\n",
    "    \"nama\" : [\"faris\", \"firman\", \"santuy\"],\n",
    "    \"umur\" : [25, 12, 45],\n",
    "    \"kota\" : [\"jakarta\", \"bandung\", \"bekasi\"]\n",
    "}\n",
    "\n",
    "df = pd.DataFrame(data)\n",
    "df = df.rename(index={0 : \"baris pertama\"})\n",
    "print(df)"
   ]
  },
  {
   "cell_type": "code",
   "execution_count": null,
   "id": "946fcaf1",
   "metadata": {},
   "outputs": [],
   "source": [
    "# melihat informati data\n",
    "import pandas as pd\n",
    "data = {\n",
    "    \"nama\" : [\"faris\", \"firman\", \"santuy\", \"riski\", \"toyib\", \"mansur\"],\n",
    "    \"umur\" : [25, 12, 45, 50, 54, 90],\n",
    "    \"kota\" : [\"jakarta\", \"bandung\", \"bekasi\", \"sukabumi\", \"padang\", \"bali\"]\n",
    "}\n",
    "\n",
    "df = pd.DataFrame(data)\n",
    "\n",
    "print(df.head()) # 5 baris pertama\n",
    "print()\n",
    "print(df.tail()) # 5 baris terakhir\n",
    "print()\n",
    "print(df.info()) # informasi umum DataFrame\n",
    "print()\n",
    "print(df.describe()) # statistik ringkas kolom numerik"
   ]
  }
 ],
 "metadata": {
  "kernelspec": {
   "display_name": "Python 3",
   "language": "python",
   "name": "python3"
  },
  "language_info": {
   "codemirror_mode": {
    "name": "ipython",
    "version": 3
   },
   "file_extension": ".py",
   "mimetype": "text/x-python",
   "name": "python",
   "nbconvert_exporter": "python",
   "pygments_lexer": "ipython3",
   "version": "3.13.1"
  }
 },
 "nbformat": 4,
 "nbformat_minor": 5
}
