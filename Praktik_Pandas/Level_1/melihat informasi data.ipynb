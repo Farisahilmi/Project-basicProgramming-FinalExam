{
 "cells": [
  {
   "cell_type": "markdown",
   "id": "8a199aea",
   "metadata": {},
   "source": [
    "# melihat informasi data\n",
    "df.head() - df.tail() - df.info() - df.describe()"
   ]
  },
  {
   "cell_type": "code",
   "execution_count": null,
   "id": "51fe39d3",
   "metadata": {},
   "outputs": [],
   "source": [
    "# melihat informati data\n",
    "import pandas as pd\n",
    "data = {\n",
    "    \"nama\" : [\"faris\", \"firman\", \"santuy\", \"riski\", \"toyib\", \"mansur\"],\n",
    "    \"umur\" : [25, 12, 45, 50, 54, 90],\n",
    "    \"kota\" : [\"jakarta\", \"bandung\", \"bekasi\", \"sukabumi\", \"padang\", \"bali\"]\n",
    "}\n",
    "\n",
    "df = pd.DataFrame(data)\n",
    "\n",
    "print(df.head()) # 5 baris pertama\n",
    "print()\n",
    "print(df.tail()) # 5 baris terakhir\n",
    "print()\n",
    "print(df.info()) # informasi umum DataFrame\n",
    "print()\n",
    "print(df.describe()) # statistik ringkas kolom numerik"
   ]
  }
 ],
 "metadata": {
  "kernelspec": {
   "display_name": "Python 3",
   "language": "python",
   "name": "python3"
  },
  "language_info": {
   "name": "python",
   "version": "3.13.1"
  }
 },
 "nbformat": 4,
 "nbformat_minor": 5
}
