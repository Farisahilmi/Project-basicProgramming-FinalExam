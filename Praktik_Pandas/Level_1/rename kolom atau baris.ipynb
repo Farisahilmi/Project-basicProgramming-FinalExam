{
 "cells": [
  {
   "cell_type": "markdown",
   "id": "540c0342",
   "metadata": {},
   "source": [
    "# rename kolom atau baris (index)\n",
    "    # df.rename(columns={...})\n",
    "    # df.rename(index= {...})"
   ]
  },
  {
   "cell_type": "code",
   "execution_count": null,
   "id": "2bbb80dc",
   "metadata": {},
   "outputs": [],
   "source": [
    "# rename kolom atau baris (index)\n",
    "# rename kolom \n",
    "import pandas as pd\n",
    "data = {\n",
    "    \"nama\" : [\"faris\", \"firman\", \"santuy\"],\n",
    "    \"umur\" : [25, 12, 45],\n",
    "    \"kota\" : [\"jakarta\", \"bandung\", \"bekasi\"]\n",
    "}\n",
    "\n",
    "df = pd.DataFrame(data)\n",
    "df = df.rename(columns={\"nama\": \"nama lengkap\"})\n",
    "print(df)"
   ]
  },
  {
   "cell_type": "code",
   "execution_count": null,
   "id": "de9f0486",
   "metadata": {},
   "outputs": [],
   "source": [
    "# rename index\n",
    "import pandas as pd\n",
    "data = {\n",
    "    \"nama\" : [\"faris\", \"firman\", \"santuy\"],\n",
    "    \"umur\" : [25, 12, 45],\n",
    "    \"kota\" : [\"jakarta\", \"bandung\", \"bekasi\"]\n",
    "}\n",
    "\n",
    "df = pd.DataFrame(data)\n",
    "df = df.rename(index={0 : \"baris pertama\"})\n",
    "print(df)"
   ]
  }
 ],
 "metadata": {
  "kernelspec": {
   "display_name": "Python 3",
   "language": "python",
   "name": "python3"
  },
  "language_info": {
   "name": "python",
   "version": "3.13.1"
  }
 },
 "nbformat": 4,
 "nbformat_minor": 5
}
