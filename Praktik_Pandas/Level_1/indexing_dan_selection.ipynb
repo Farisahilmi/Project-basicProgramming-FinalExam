{
 "cells": [
  {
   "cell_type": "markdown",
   "id": "e273f6ac",
   "metadata": {},
   "source": [
    "tujuan file ini \n",
    "\n",
    "# belajar cara mengaksess kolom : df[kolom]\n",
    "# akses baris :\n",
    "            loc[] > berdasarkan label\n",
    "            iloc[] > berdasarkan posisi\n",
    "# akses elemen: df.loc[baris, kolom]"
   ]
  },
  {
   "cell_type": "code",
   "execution_count": null,
   "id": "f073dd51",
   "metadata": {},
   "outputs": [],
   "source": [
    "# mengakses kolom \n",
    "import pandas as pd\n",
    "\n",
    "df = pd.DataFrame({\n",
    "    \"nama\" : [\"ari\", \"budi\", \"cici\"],\n",
    "    \"umur\" : [25, 30, 22]\n",
    "})\n",
    "\n",
    "# mengakses satu kolom\n",
    "print(df[\"nama\"])\n",
    "\n",
    "# mengakses beberapa kolom \n",
    "print(df[[\"nama\", \"umur\"]])"
   ]
  },
  {
   "cell_type": "code",
   "execution_count": null,
   "id": "5627725a",
   "metadata": {},
   "outputs": [],
   "source": [
    "# mengakses baris: \n",
    "# berdasarkan label/index .loc[]\n",
    "import pandas as pd\n",
    "\n",
    "df = pd.DataFrame ({\n",
    "    \"nama\" : [\"ari\", \"budi\", \"cici\"],\n",
    "    \"umur\" : [25, 30, 22]\n",
    "})\n",
    "\n",
    "# akses baris pertama (index label 0)\n",
    "print(df.loc[0])\n",
    "\n",
    "# akses baris pertama dan kedua\n",
    "print(df.loc[[0, 1]])"
   ]
  },
  {
   "cell_type": "code",
   "execution_count": null,
   "id": "ea7c6924",
   "metadata": {},
   "outputs": [],
   "source": [
    "# mengakses baris:\n",
    "# berdasarkan posisi baris .iloc[]\n",
    "import pandas as pd\n",
    "\n",
    "df = pd.DataFrame ({\n",
    "    \"nama\" : [\"ari\", \"budi\", \"cici\"],\n",
    "    \"umur\" : [25, 30, 22]\n",
    "})\n",
    "\n",
    "# akses baris pertama (posisi ke-0)\n",
    "print(df.iloc[0])\n",
    "\n",
    "# akses baris ke-0 sampai ke-1 (tidak termasuk ke-2)\n",
    "print(df.iloc[0:2])"
   ]
  },
  {
   "cell_type": "code",
   "execution_count": null,
   "id": "e2d9ed15",
   "metadata": {},
   "outputs": [],
   "source": [
    "# mengakses elemem spesifik\n",
    "import pandas as pd\n",
    "\n",
    "df = pd.DataFrame ({\n",
    "    \"nama\" : [\"ari\", \"budi\", \"cici\"],\n",
    "    \"umur\" : [25, 30, 22]\n",
    "})\n",
    "\n",
    "# akses umur dari baris ke-1\n",
    "print(df.loc[1,\"umur\"])\n",
    "\n",
    "# atau dengan iloc\n",
    "print(df.iloc[1, 1])"
   ]
  }
 ],
 "metadata": {
  "kernelspec": {
   "display_name": "Python 3",
   "language": "python",
   "name": "python3"
  },
  "language_info": {
   "codemirror_mode": {
    "name": "ipython",
    "version": 3
   },
   "file_extension": ".py",
   "mimetype": "text/x-python",
   "name": "python",
   "nbconvert_exporter": "python",
   "pygments_lexer": "ipython3",
   "version": "3.13.1"
  }
 },
 "nbformat": 4,
 "nbformat_minor": 5
}
