{
 "cells": [
  {
   "cell_type": "markdown",
   "id": "0a48d3be",
   "metadata": {},
   "source": [
    "# akses baris :\n",
    "            loc[] > berdasarkan label\n",
    "            iloc[] > berdasarkan posisi\n",
    "# akses elemen: df.loc[baris, kolom]"
   ]
  },
  {
   "cell_type": "code",
   "execution_count": null,
   "id": "323480ec",
   "metadata": {},
   "outputs": [],
   "source": [
    "# mengakses baris: \n",
    "# berdasarkan label/index .loc[]\n",
    "import pandas as pd\n",
    "\n",
    "df = pd.DataFrame ({\n",
    "    \"nama\" : [\"ari\", \"budi\", \"cici\"],\n",
    "    \"umur\" : [25, 30, 22]\n",
    "})\n",
    "\n",
    "# akses baris pertama (index label 0)\n",
    "print(df.loc[0])\n",
    "\n",
    "# akses baris pertama dan kedua\n",
    "print(df.loc[[0, 1]])"
   ]
  },
  {
   "cell_type": "code",
   "execution_count": null,
   "id": "a54d879a",
   "metadata": {},
   "outputs": [],
   "source": [
    "# mengakses baris:\n",
    "# berdasarkan posisi baris .iloc[]\n",
    "import pandas as pd\n",
    "\n",
    "df = pd.DataFrame ({\n",
    "    \"nama\" : [\"ari\", \"budi\", \"cici\"],\n",
    "    \"umur\" : [25, 30, 22]\n",
    "})\n",
    "\n",
    "# akses baris pertama (posisi ke-0)\n",
    "print(df.iloc[0])\n",
    "\n",
    "# akses baris ke-0 sampai ke-1 (tidak termasuk ke-2)\n",
    "print(df.iloc[0:2])"
   ]
  },
  {
   "cell_type": "code",
   "execution_count": null,
   "id": "62397c66",
   "metadata": {},
   "outputs": [],
   "source": [
    "# mengakses elemem spesifik\n",
    "import pandas as pd\n",
    "\n",
    "df = pd.DataFrame ({\n",
    "    \"nama\" : [\"ari\", \"budi\", \"cici\"],\n",
    "    \"umur\" : [25, 30, 22]\n",
    "})\n",
    "\n",
    "# akses umur dari baris ke-1\n",
    "print(df.loc[1,\"umur\"])\n",
    "\n",
    "# atau dengan iloc\n",
    "print(df.iloc[1, 1])"
   ]
  }
 ],
 "metadata": {
  "kernelspec": {
   "display_name": "Python 3",
   "language": "python",
   "name": "python3"
  },
  "language_info": {
   "name": "python",
   "version": "3.13.1"
  }
 },
 "nbformat": 4,
 "nbformat_minor": 5
}
