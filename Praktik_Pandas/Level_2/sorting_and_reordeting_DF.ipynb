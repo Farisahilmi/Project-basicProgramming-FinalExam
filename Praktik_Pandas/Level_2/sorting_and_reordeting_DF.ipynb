{
 "cells": [
  {
   "cell_type": "markdown",
   "id": "0f2c6426",
   "metadata": {},
   "source": [
    "Level 2:\n",
    "bagian 2: sorting dan reordering "
   ]
  },
  {
   "cell_type": "code",
   "execution_count": null,
   "id": "5ae144cc",
   "metadata": {},
   "outputs": [],
   "source": [
    "# sort berdasarkan kolom \"nilai\" (dari kecil ke besar)\n",
    "import pandas as pd\n",
    "\n",
    "data = {\n",
    "    \"nama\": [\"Ari\", \"Budi\", \"Cici\", \"Dina\"],\n",
    "    \"umur\": [25, 30, 22, 27],\n",
    "    \"nilai\": [85, 90, 95, 70]\n",
    "}\n",
    "\n",
    "df = pd.DataFrame(data)\n",
    "\n",
    "df_sorted = df.sort_values(by=\"nilai\")\n",
    "print(df_sorted)\n"
   ]
  },
  {
   "cell_type": "code",
   "execution_count": null,
   "id": "04530aa3",
   "metadata": {},
   "outputs": [],
   "source": [
    "# sort berdasarkan kolom \"nilai\" (dari besar ke kecil)\n",
    "import pandas as pd\n",
    "\n",
    "data = {\n",
    "    \"nama\": [\"Ari\", \"Budi\", \"Cici\", \"Dina\"],\n",
    "    \"umur\": [25, 30, 22, 27],\n",
    "    \"nilai\": [85, 90, 95, 70]\n",
    "}\n",
    "\n",
    "df = pd.DataFrame(data)\n",
    "df_sorted_desc = df.sort_values(by=\"nilai\", ascending=False)\n",
    "print(df_sorted_desc)"
   ]
  },
  {
   "cell_type": "code",
   "execution_count": null,
   "id": "5132126b",
   "metadata": {},
   "outputs": [],
   "source": [
    "# sort berdasarkan beberapa kolom \n",
    "# urutkan dulu berdasarkan umur naik, lalu nilai turun\n",
    "import pandas as pd\n",
    "\n",
    "data = {\n",
    "    \"nama\": [\"Ari\", \"Budi\", \"Cici\", \"Dina\"],\n",
    "    \"umur\": [25, 30, 22, 27],\n",
    "    \"nilai\": [85, 90, 95, 70]\n",
    "}\n",
    "\n",
    "df = pd.DataFrame(data)\n",
    "df_sorted_multi = df.sort_values(by=[\"umur\", \"nilai\"], ascending=[True, False])\n",
    "print(df_sorted_multi)"
   ]
  },
  {
   "cell_type": "code",
   "execution_count": null,
   "id": "0c346fce",
   "metadata": {},
   "outputs": [],
   "source": [
    "#sort berdasarkan index (default urutkan dari kecil ke besar)\n",
    "import pandas as pd\n",
    "\n",
    "data = {\n",
    "    \"nama\": [\"Ari\", \"Budi\", \"Cici\", \"Dina\"],\n",
    "    \"umur\": [25, 30, 22, 27],\n",
    "    \"nilai\": [85, 90, 95, 70]\n",
    "}\n",
    "\n",
    "df = pd.DataFrame(data)\n",
    "df_sorted_index = df.sort_index()\n",
    "print(df_sorted_index)"
   ]
  }
 ],
 "metadata": {
  "kernelspec": {
   "display_name": "Python 3",
   "language": "python",
   "name": "python3"
  },
  "language_info": {
   "codemirror_mode": {
    "name": "ipython",
    "version": 3
   },
   "file_extension": ".py",
   "mimetype": "text/x-python",
   "name": "python",
   "nbconvert_exporter": "python",
   "pygments_lexer": "ipython3",
   "version": "3.13.1"
  }
 },
 "nbformat": 4,
 "nbformat_minor": 5
}
