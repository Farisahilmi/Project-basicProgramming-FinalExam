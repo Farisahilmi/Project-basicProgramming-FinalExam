{
 "cells": [
  {
   "cell_type": "markdown",
   "id": "76617b20",
   "metadata": {},
   "source": [
    "operasi tanggal & waktu di pandas\n",
    "level 2 - manipulasi data\n",
    "\n",
    "mengubah string jadi tipe data waktu\n",
    "\n",
    "mengakses komponen tanggal seperti hari, bulan, tahun, dll\n",
    "\n",
    "melakukan analisis berbasis waktu"
   ]
  },
  {
   "cell_type": "code",
   "execution_count": null,
   "id": "b7678289",
   "metadata": {},
   "outputs": [],
   "source": [
    "# pd.to_datetime()\n",
    "# digunakan untuk mengonversi string menjadi format tanggal yang dimengerti pandas\n",
    "\n",
    "import pandas as pd\n",
    "\n",
    "data = {\n",
    "    \"nama\": [\"Ari\", \"Budi\", \"Cici\"],\n",
    "    \"tanggal_lahir\": [\"2000-01-01\", \"1998-05-20\", \"2001-12-15\"]\n",
    "}\n",
    "\n",
    "df = pd.DataFrame(data)\n",
    "df[\"tanggal_lahir\"] = pd.to_datetime(df[\"tanggal_lahir\"])\n",
    "print(df)\n",
    "\n",
    "# .dt accessor\n",
    "# kalau kolom sudah bertipe datetime, kita bisa mengakses bagian bagiannya dengan .dt\n",
    "df[\"tahun\"] = df[\"tanggal_lahir\"].dt.year\n",
    "df[\"bulan\"] = df[\"tanggal_lahir\"].dt.month\n",
    "df[\"hari\"] = df[\"tanggal_lahir\"].dt.day\n",
    "df[\"hari_dalam_minggu\"] = df[\"tanggal_lahir\"].dt.day_name()\n",
    "\n",
    "print(df)"
   ]
  }
 ],
 "metadata": {
  "kernelspec": {
   "display_name": "Python 3",
   "language": "python",
   "name": "python3"
  },
  "language_info": {
   "codemirror_mode": {
    "name": "ipython",
    "version": 3
   },
   "file_extension": ".py",
   "mimetype": "text/x-python",
   "name": "python",
   "nbconvert_exporter": "python",
   "pygments_lexer": "ipython3",
   "version": "3.13.1"
  }
 },
 "nbformat": 4,
 "nbformat_minor": 5
}
