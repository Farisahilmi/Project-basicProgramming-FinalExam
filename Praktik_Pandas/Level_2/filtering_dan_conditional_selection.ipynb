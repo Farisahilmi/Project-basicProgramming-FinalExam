{
 "cells": [
  {
   "cell_type": "markdown",
   "id": "1f3a5f33",
   "metadata": {},
   "source": [
    "Level 2:\n",
    "bagian 1: filtering dan conditional selection\n",
    "\n",
    "tujuan: menyaring data berdsarkan kondisi tertentu"
   ]
  },
  {
   "cell_type": "code",
   "execution_count": null,
   "id": "c82a0685",
   "metadata": {},
   "outputs": [],
   "source": [
    "# filtering\n",
    "import pandas as pd\n",
    "\n",
    "data = {\n",
    "    \"nama\": [\"Ari\", \"Budi\", \"Cici\", \"Dina\"],\n",
    "    \"umur\": [25, 30, 22, 27],\n",
    "    \"nilai\": [85, 90, 95, 70]\n",
    "}\n",
    "\n",
    "df = pd.DataFrame(data)\n",
    "\n",
    "# filtering hanya ambil colom nilai yang lebih besar 80\n",
    "print(df[df[\"nilai\"] > 80])\n",
    "\n",
    "# conditional selection ambil kolom umur yang kurang dari 30 dan kolom nilai yang lebih dari 80\n",
    "print(df[(df[\"umur\"] < 30) & (df[\"nilai\"] > 80)])\n",
    "\n",
    "# ambil kolom nama yang tidak sama dengan budi\n",
    "print(df[df[\"nama\"] != \"budi\"])\n"
   ]
  }
 ],
 "metadata": {
  "kernelspec": {
   "display_name": "Python 3",
   "language": "python",
   "name": "python3"
  },
  "language_info": {
   "codemirror_mode": {
    "name": "ipython",
    "version": 3
   },
   "file_extension": ".py",
   "mimetype": "text/x-python",
   "name": "python",
   "nbconvert_exporter": "python",
   "pygments_lexer": "ipython3",
   "version": "3.13.1"
  }
 },
 "nbformat": 4,
 "nbformat_minor": 5
}
