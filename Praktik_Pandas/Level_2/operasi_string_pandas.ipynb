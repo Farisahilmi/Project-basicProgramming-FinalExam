{
 "cells": [
  {
   "cell_type": "markdown",
   "id": "41bcf07d",
   "metadata": {},
   "source": [
    "level 2:\n",
    "manipulasi atau menganalisis data string(teks) dalam kolom DataFrame"
   ]
  },
  {
   "cell_type": "code",
   "execution_count": 7,
   "id": "74e2145b",
   "metadata": {},
   "outputs": [
    {
     "name": "stdout",
     "output_type": "stream",
     "text": [
      "   nama nama_kecil nama_besar  mengadung_i nama_diganti\n",
      "0   Ari        ari        ARI         True          Arx\n",
      "1  budi       budi       BUDI         True         budx\n",
      "2  CICI       cici       CICI        False         CxCx\n",
      "3  Dina       dina       DINA         True         Dxna\n"
     ]
    }
   ],
   "source": [
    "# dasar .str accessor\n",
    "\n",
    "#kalau kamu punya kolom berisi teks/string, kamu bisa pakai .str untuk mengakses fungsi string seperti .lower(), .upper(), .contains(), dll\n",
    "import pandas as pd\n",
    "\n",
    "data = {\n",
    "    \"nama\": [\"Ari\", \"budi\", \"CICI\", \"Dina\"],\n",
    "}\n",
    "\n",
    "df = pd.DataFrame(data)\n",
    "\n",
    "# ubah jadi huruf kecil semua\n",
    "df[\"nama_kecil\"] = df[\"nama\"].str.lower()\n",
    "\n",
    "# ubah jadi huruf kapital semua\n",
    "df[\"nama_besar\"] = df[\"nama\"].str.upper()\n",
    "\n",
    "# cek apakah mengandung substring tertentu\n",
    "df[\"mengadung_i\"] = df[\"nama\"].str.contains(\"i\")\n",
    "\n",
    "# ubah isi teks\n",
    "df[\"nama_diganti\"] = df[\"nama\"].str.replace(\"i\", \"x\", case=False, regex=True)\n",
    "print(df)\n",
    "\n"
   ]
  }
 ],
 "metadata": {
  "kernelspec": {
   "display_name": "Python 3",
   "language": "python",
   "name": "python3"
  },
  "language_info": {
   "codemirror_mode": {
    "name": "ipython",
    "version": 3
   },
   "file_extension": ".py",
   "mimetype": "text/x-python",
   "name": "python",
   "nbconvert_exporter": "python",
   "pygments_lexer": "ipython3",
   "version": "3.13.1"
  }
 },
 "nbformat": 4,
 "nbformat_minor": 5
}
