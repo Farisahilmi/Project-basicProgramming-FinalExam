{
 "cells": [
  {
   "cell_type": "markdown",
   "id": "f0f4844f",
   "metadata": {},
   "source": [
    "🔶 Apa itu DataFrame?\n",
    "DataFrame adalah struktur utama di Pandas.\n",
    "\n",
    "Bayangkan:\n",
    "\n",
    "Excel → ada baris dan kolom\n",
    "\n",
    "DataFrame → juga baris dan kolom (tapi di Python)\n",
    "\n",
    "#Mengakses Kolom \n",
    "#Mengurutkan Data"
   ]
  },
  {
   "cell_type": "code",
   "execution_count": null,
   "id": "f001676c",
   "metadata": {},
   "outputs": [],
   "source": [
    "import pandas as pd\n",
    "\n",
    "data = {\n",
    "    \"Nama\": [\"Ali\", \"Budi\", \"Citra\"],\n",
    "    \"Umur\": [20, 21, 19]\n",
    "}\n",
    "\n",
    "df = pd.DataFrame(data)\n",
    "\n",
    "print(df)\n"
   ]
  },
  {
   "cell_type": "code",
   "execution_count": null,
   "id": "2709a3a8",
   "metadata": {},
   "outputs": [],
   "source": [
    "# belajar cara mengaksess kolom : df[kolom]\n",
    "# mengakses kolom \n",
    "import pandas as pd\n",
    "\n",
    "df = pd.DataFrame({\n",
    "    \"nama\" : [\"ari\", \"budi\", \"cici\"],\n",
    "    \"umur\" : [25, 30, 22]\n",
    "})\n",
    "\n",
    "# mengakses satu kolom\n",
    "print(df[\"nama\"])\n",
    "\n",
    "# mengakses beberapa kolom \n",
    "print(df[[\"nama\", \"umur\"]])"
   ]
  },
  {
   "cell_type": "code",
   "execution_count": null,
   "id": "d8df6c1c",
   "metadata": {},
   "outputs": [
    {
     "name": "stdout",
     "output_type": "stream",
     "text": [
      "    Nama  Umur\n",
      "1   Budi    21\n",
      "0    Ali    20\n",
      "2  Citra    19\n"
     ]
    }
   ],
   "source": [
    "# urutkan data\n",
    "import pandas as pd\n",
    "\n",
    "data = {\n",
    "    \"Nama\": [\"Ali\", \"Budi\", \"Citra\"],\n",
    "    \"Umur\": [20, 21, 19]\n",
    "}\n",
    "\n",
    "df = pd.DataFrame(data)\n",
    "\n",
    "#urutkan data berdasarkan nilai (dari column, menyusun kecil ke besar = benar)\n",
    "df = df.sort_values(by=\"Umur\", ascending=True) \n",
    "print(df)"
   ]
  }
 ],
 "metadata": {
  "kernelspec": {
   "display_name": "Python 3",
   "language": "python",
   "name": "python3"
  },
  "language_info": {
   "codemirror_mode": {
    "name": "ipython",
    "version": 3
   },
   "file_extension": ".py",
   "mimetype": "text/x-python",
   "name": "python",
   "nbconvert_exporter": "python",
   "pygments_lexer": "ipython3",
   "version": "3.13.1"
  }
 },
 "nbformat": 4,
 "nbformat_minor": 5
}
