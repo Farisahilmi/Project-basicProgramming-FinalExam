{
 "cells": [
  {
   "cell_type": "markdown",
   "id": "05aeb5a3",
   "metadata": {},
   "source": [
    "\n",
    "\n",
    "\n",
    "\n",
    "disini yang akan dibahas adalah \n",
    "# instalasi dan import\n",
    "    # pip install pandas\n",
    "    # import pandas as pd\n",
    "# series \n",
    "# DataFrame\n",
    "# membuat DataFrame dari berbagai sumber"
   ]
  },
  {
   "cell_type": "code",
   "execution_count": null,
   "id": "474edb88",
   "metadata": {},
   "outputs": [],
   "source": [
    "# series \n",
    "# mirip list tapi dengan labe (index)\n",
    "import pandas as pd\n",
    "\n",
    "s = pd.Series([10,20,30,40])\n",
    "print(s)"
   ]
  },
  {
   "cell_type": "code",
   "execution_count": null,
   "id": "0f189fbc",
   "metadata": {},
   "outputs": [],
   "source": [
    "# DataFrame\n",
    "# tabel 2 dimensi: baris & kolom\n",
    "import pandas  as pd\n",
    "data = {\n",
    "    \"nama\" : [\"ari\", \"budi\", \"citra\"],\n",
    "    \"umur\" : [25, 30, 22]\n",
    "}\n",
    "\n",
    "df = pd.DataFrame(data)\n",
    "print(df)"
   ]
  },
  {
   "cell_type": "code",
   "execution_count": null,
   "id": "f0ee794b",
   "metadata": {},
   "outputs": [],
   "source": [
    "# membuat DataFrame dari dictionary\n",
    "import pandas as pd\n",
    "\n",
    "data = {\n",
    "    \"nama\" : [\"dina\", \"eka\"],\n",
    "    \"nilai\" : [85, 90]\n",
    "}\n",
    "df = pd.DataFrame(data)\n",
    "print(df)"
   ]
  },
  {
   "cell_type": "code",
   "execution_count": null,
   "id": "cd259760",
   "metadata": {},
   "outputs": [],
   "source": [
    "# membuat DataFrame dari list of lists\n",
    "import pandas as pd\n",
    "data = [[\"fahri\", 88], [\"gita\", \"92\"]]\n",
    "\n",
    "df = pd.DataFrame(data, columns=[\"nama\", \"nilai\"])\n",
    "print(df)"
   ]
  },
  {
   "cell_type": "code",
   "execution_count": null,
   "id": "5c867da2",
   "metadata": {},
   "outputs": [],
   "source": [
    "# membuat DataFrame dari file CSV/Excel\n",
    "#untuk CSV\n",
    "df_scv = pd.read_csv(\"nama_file.csv\") # pastikan file ada di folder kerja\n",
    "\n",
    "#untuk Excel\n",
    "df_excel = pd.read_clipboard(\"nama_file.xlsx\")\n",
    "\n"
   ]
  }
 ],
 "metadata": {
  "kernelspec": {
   "display_name": "Python 3",
   "language": "python",
   "name": "python3"
  },
  "language_info": {
   "codemirror_mode": {
    "name": "ipython",
    "version": 3
   },
   "file_extension": ".py",
   "mimetype": "text/x-python",
   "name": "python",
   "nbconvert_exporter": "python",
   "pygments_lexer": "ipython3",
   "version": "3.13.1"
  }
 },
 "nbformat": 4,
 "nbformat_minor": 5
}
