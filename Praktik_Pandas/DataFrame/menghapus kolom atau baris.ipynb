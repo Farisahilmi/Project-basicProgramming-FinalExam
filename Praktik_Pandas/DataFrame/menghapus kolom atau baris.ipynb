{
 "cells": [
  {
   "cell_type": "markdown",
   "id": "fee1add9",
   "metadata": {},
   "source": [
    "# menghapus kolom atau baris\n",
    "    # df.drop(columns=[...])\n",
    "    # df.drop(index=...)"
   ]
  },
  {
   "cell_type": "code",
   "execution_count": null,
   "id": "c915e632",
   "metadata": {},
   "outputs": [],
   "source": [
    "# menghapus kolom atau baris\n",
    "\n",
    "# hapus kolom (columns=[nama kolom])\n",
    "import pandas as pd\n",
    "data = {\n",
    "    \"nama\" : [\"faris\", \"firman\", \"santuy\"],\n",
    "    \"umur\" : [25, 12, 45],\n",
    "    \"kota\" : [\"jakarta\", \"bandung\", \"bekasi\"]\n",
    "}\n",
    "\n",
    "df = pd.DataFrame(data)\n",
    "df = df.drop(columns=[\"kota\"])\n",
    "print(df)"
   ]
  },
  {
   "cell_type": "code",
   "execution_count": null,
   "id": "32d3a4f4",
   "metadata": {},
   "outputs": [],
   "source": [
    "# hapus baris (index=[index])\n",
    "import pandas as pd\n",
    "data = {\n",
    "    \"nama\" : [\"faris\", \"firman\", \"santuy\"],\n",
    "    \"umur\" : [25, 12, 45],\n",
    "    \"kota\" : [\"jakarta\", \"bandung\", \"bekasi\"]\n",
    "}\n",
    "\n",
    "df = pd.DataFrame(data)\n",
    "df = df.drop(index=1)\n",
    "print(df)"
   ]
  },
  {
   "cell_type": "code",
   "execution_count": null,
   "id": "eede733f",
   "metadata": {},
   "outputs": [],
   "source": [
    "# hapus kolom (nama colom, axis=index)\n",
    "import pandas as pd\n",
    "data = {\n",
    "    \"nama\" : [\"faris\", \"firman\", \"santuy\"],\n",
    "    \"umur\" : [25, 12, 45],\n",
    "    \"kota\" : [\"jakarta\", \"bandung\", \"bekasi\"]\n",
    "}\n",
    "\n",
    "df = pd.DataFrame(data)\n",
    "df = df.drop(\"umur\", axis=1)\n",
    "print(df)"
   ]
  }
 ],
 "metadata": {
  "kernelspec": {
   "display_name": "Python 3",
   "language": "python",
   "name": "python3"
  },
  "language_info": {
   "codemirror_mode": {
    "name": "ipython",
    "version": 3
   },
   "file_extension": ".py",
   "mimetype": "text/x-python",
   "name": "python",
   "nbconvert_exporter": "python",
   "pygments_lexer": "ipython3",
   "version": "3.13.1"
  }
 },
 "nbformat": 4,
 "nbformat_minor": 5
}
