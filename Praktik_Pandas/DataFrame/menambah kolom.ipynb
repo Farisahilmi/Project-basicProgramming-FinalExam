{
 "cells": [
  {
   "cell_type": "markdown",
   "id": "db66f51e",
   "metadata": {},
   "source": [
    "# menambah kolom:\n",
    "    # df[kolom_baru] = [...]"
   ]
  },
  {
   "cell_type": "code",
   "execution_count": null,
   "id": "5361e9da",
   "metadata": {},
   "outputs": [],
   "source": [
    "# menambah kolom \n",
    "import pandas as pd\n",
    "data = {\n",
    "    \"nama\" : [\"faris\", \"firman\", \"santuy\"],\n",
    "    \"umur\" : [25, 12, 45],\n",
    "}\n",
    "\n",
    "\n",
    "df = pd.DataFrame(data)\n",
    "df[\"kota\"] = [\"jakarta\", \"bandung\", \"bekasi\"]\n",
    "print(df)"
   ]
  }
 ],
 "metadata": {
  "kernelspec": {
   "display_name": "Python 3",
   "language": "python",
   "name": "python3"
  },
  "language_info": {
   "name": "python",
   "version": "3.13.1"
  }
 },
 "nbformat": 4,
 "nbformat_minor": 5
}
