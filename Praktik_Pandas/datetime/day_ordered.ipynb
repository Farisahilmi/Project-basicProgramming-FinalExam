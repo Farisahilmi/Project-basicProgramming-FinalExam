{
 "cells": [
  {
   "cell_type": "code",
   "execution_count": null,
   "id": "f312e8b0",
   "metadata": {},
   "outputs": [],
   "source": [
    "# day_order = [\"Senin\", \"Selasa\", \"Rabu\", \"Kamis\", \"Jumat\", \"Sabtu\"]\n",
    "\n",
    "# df[\"Hari\"] = df[\"Hari\"].str.capitalize()\n",
    "# df[\"Hari\"] = pd.Categorical(df[\"Hari\"], categories=day_order, ordered=True)\n",
    "\n",
    "# df_sorted = df.sort_values(by=[\"Hari\", \"Mulai\"]).reset_index(drop=True)\n"
   ]
  }
 ],
 "metadata": {
  "kernelspec": {
   "display_name": "Python 3",
   "language": "python",
   "name": "python3"
  },
  "language_info": {
   "name": "python",
   "version": "3.13.1"
  }
 },
 "nbformat": 4,
 "nbformat_minor": 5
}
